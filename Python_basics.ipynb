{
  "nbformat": 4,
  "nbformat_minor": 0,
  "metadata": {
    "colab": {
      "provenance": []
    },
    "kernelspec": {
      "name": "python3",
      "display_name": "Python 3"
    },
    "language_info": {
      "name": "python"
    }
  },
  "cells": [
    {
      "cell_type": "markdown",
      "source": [
        "#PYTHON BASICS QUESTION\n"
      ],
      "metadata": {
        "id": "ExF6GGPs1C1_"
      }
    },
    {
      "cell_type": "markdown",
      "source": [
        "1. Write a Python program to print \"Hello, World\" ?"
      ],
      "metadata": {
        "id": "6dex81HN1IRd"
      }
    },
    {
      "cell_type": "code",
      "source": [
        "print(\"Hello, World\")"
      ],
      "metadata": {
        "colab": {
          "base_uri": "https://localhost:8080/"
        },
        "id": "MBr4p15O1Qch",
        "outputId": "b75e422d-c110-4f9a-b50a-cc577e3683d5"
      },
      "execution_count": 1,
      "outputs": [
        {
          "output_type": "stream",
          "name": "stdout",
          "text": [
            "Hello, World\n"
          ]
        }
      ]
    },
    {
      "cell_type": "markdown",
      "source": [
        "2. Write a Python program that displays your name and age?"
      ],
      "metadata": {
        "id": "-wW6OY4G1asj"
      }
    },
    {
      "cell_type": "code",
      "source": [
        "name = input(\"enter your name\")  # Replace \"Your Name Here\" with your actual name\n",
        "age = int(input(\"enter your age\"))  # Replace 25 with your actual age\n",
        "\n",
        "print(\"My name is\", name, \"and I am\", age, \"years old.\")\n",
        "\n",
        "# Or, using f-strings (more modern and often preferred):\n",
        "print(f\"My name is {name} and I am {age} years old.\")"
      ],
      "metadata": {
        "colab": {
          "base_uri": "https://localhost:8080/"
        },
        "id": "_7OgvuFb1euj",
        "outputId": "1aaa8384-b65b-46c1-ba3e-6ad0fd1425e9"
      },
      "execution_count": 2,
      "outputs": [
        {
          "output_type": "stream",
          "name": "stdout",
          "text": [
            "enter your nameRaja Mondal\n",
            "enter your age26\n",
            "My name is Raja Mondal and I am 26 years old.\n",
            "My name is Raja Mondal and I am 26 years old.\n"
          ]
        }
      ]
    },
    {
      "cell_type": "markdown",
      "source": [
        "3. Write code to print all the pre-defined keywords in Python using the keyword library?"
      ],
      "metadata": {
        "id": "YAE6moG62J4k"
      }
    },
    {
      "cell_type": "code",
      "source": [
        "import keyword\n",
        "\n",
        "print(keyword.kwlist)"
      ],
      "metadata": {
        "colab": {
          "base_uri": "https://localhost:8080/"
        },
        "id": "UmG1y1362WQq",
        "outputId": "4ff08bcd-152d-4b0c-95ba-b087a4030010"
      },
      "execution_count": 3,
      "outputs": [
        {
          "output_type": "stream",
          "name": "stdout",
          "text": [
            "['False', 'None', 'True', 'and', 'as', 'assert', 'async', 'await', 'break', 'class', 'continue', 'def', 'del', 'elif', 'else', 'except', 'finally', 'for', 'from', 'global', 'if', 'import', 'in', 'is', 'lambda', 'nonlocal', 'not', 'or', 'pass', 'raise', 'return', 'try', 'while', 'with', 'yield']\n"
          ]
        }
      ]
    },
    {
      "cell_type": "markdown",
      "source": [
        "4. Write a program that checks if a given word is a Python keyword?"
      ],
      "metadata": {
        "id": "9m7yuBhK2hp6"
      }
    },
    {
      "cell_type": "code",
      "source": [
        "import keyword\n",
        "def is_keyword(word):\n",
        "  return word in keyword.kwlist\n",
        "word_to_check = input(\"Enter a word: \")\n",
        "\n",
        "# Check if it's a keyword and print the result\n",
        "if is_keyword(word_to_check):\n",
        "    print(f\"'{word_to_check}' is a Python keyword.\")\n",
        "else:\n",
        "    print(f\"'{word_to_check}' is not a Python keyword.\")\n"
      ],
      "metadata": {
        "colab": {
          "base_uri": "https://localhost:8080/"
        },
        "id": "sKVwV-G62oFc",
        "outputId": "643e2d8a-1991-4735-8a55-de9b6c15e464"
      },
      "execution_count": 8,
      "outputs": [
        {
          "output_type": "stream",
          "name": "stdout",
          "text": [
            "Enter a word: True\n",
            "'True' is a Python keyword.\n"
          ]
        }
      ]
    },
    {
      "cell_type": "markdown",
      "source": [
        "5. Create a list and tuple in Python, and demonstrate how attempting to change an element works differently for each ?\n"
      ],
      "metadata": {
        "id": "v3oB9BUo354X"
      }
    },
    {
      "cell_type": "code",
      "source": [
        "# Create a list\n",
        "my_list = [10, 20, 30, 40, 50]\n",
        "\n",
        "# Create a tuple\n",
        "my_tuple = (10, 20, 30, 40, 50)\n",
        "\n",
        "# Demonstrate changing an element in the list\n",
        "print(\"Original list:\", my_list)\n",
        "my_list[2] = 35  # Change the element at index 2\n",
        "print(\"Modified list:\", my_list)  # Output: [10, 20, 35, 40, 50]\n",
        "\n",
        "# Demonstrate attempting to change an element in the tuple\n",
        "print(\"\\nOriginal tuple:\", my_tuple)\n",
        "try:\n",
        "    my_tuple[2] = 35  # Try to change the element at index 2 (will cause an error)\n",
        "except TypeError as e:\n",
        "    print(\"Error:\", e)  # Output: TypeError: 'tuple' object does not support item assignment\n",
        "print(\"Tuple remains unchanged:\", my_tuple) # Output: (10, 20, 30, 40, 50)\n",
        "\n",
        "# Demonstrating that the tuple itself can not be changed, even if it contains a mutable object.\n",
        "# However, if it contains mutable objects, the mutable objects can be changed.\n",
        "tuple_with_list = (1, 2, [3, 4, 5])\n",
        "print(\"\\nTuple with a list:\", tuple_with_list)\n",
        "\n",
        "# Trying to change the tuple itself:\n",
        "# tuple_with_list[0] = 10 # This will raise TypeError\n",
        "\n",
        "# But we can change the list inside the tuple:\n",
        "tuple_with_list[2].append(6)\n",
        "print(\"Tuple with modified list:\", tuple_with_list) # Output: (1, 2, [3, 4, 5, 6])\n"
      ],
      "metadata": {
        "id": "3G-qCf5F4CQh"
      },
      "execution_count": null,
      "outputs": []
    },
    {
      "cell_type": "markdown",
      "source": [
        "6. Write a function to demonstrate the behavior of mutable and immutable arguments?"
      ],
      "metadata": {
        "id": "pFc864UO6G3c"
      }
    },
    {
      "cell_type": "code",
      "source": [
        "def modify_values(int_val, float_val, str_val, list_val, tuple_val, dict_val):\n",
        "    \"\"\"Demonstrates the behavior of mutable and immutable arguments.\n",
        "\n",
        "    Args:\n",
        "        int_val: An integer.\n",
        "        float_val: A float.\n",
        "        str_val: A string.\n",
        "        list_val: A list.\n",
        "        tuple_val: A tuple.\n",
        "        dict_val: A dictionary.\n",
        "    \"\"\"\n",
        "\n",
        "    print(\"Inside the function (before modifications):\")\n",
        "    print(\"Integer:\", int_val, id(int_val))\n",
        "    print(\"Float:\", float_val, id(float_val))\n",
        "    print(\"String:\", str_val, id(str_val))\n",
        "    print(\"List:\", list_val, id(list_val))\n",
        "    print(\"Tuple:\", tuple_val, id(tuple_val))\n",
        "    print(\"Dictionary:\", dict_val, id(dict_val))\n",
        "\n",
        "    # Modify the values\n",
        "    int_val += 5\n",
        "    float_val /= 2.0\n",
        "    str_val += \" added\"\n",
        "    list_val.append(60)\n",
        "    # tuple_val += (60,)  # This would create a new tuple!\n",
        "    # tuple_val[0] = 100 # This will raise a TypeError\n",
        "    dict_val[\"new_key\"] = \"new_value\"\n",
        "\n",
        "    print(\"\\nInside the function (after modifications):\")\n",
        "    print(\"Integer:\", int_val, id(int_val))  # New object created\n",
        "    print(\"Float:\", float_val, id(float_val))  # New object created\n",
        "    print(\"String:\", str_val, id(str_val))  # New object created\n",
        "    print(\"List:\", list_val, id(list_val))  # Same object modified\n",
        "    print(\"Tuple:\", tuple_val, id(tuple_val))  # Same object, can't be modified\n",
        "    print(\"Dictionary:\", dict_val, id(dict_val))  # Same object modified\n",
        "\n",
        "\n",
        "# Example usage:\n",
        "int_arg = 10\n",
        "float_arg = 20.0\n",
        "str_arg = \"hello\"\n",
        "list_arg = [1, 2, 3, 4, 5]\n",
        "tuple_arg = (1, 2, 3, 4, 5)\n",
        "dict_arg = {\"a\": 1, \"b\": 2}\n",
        "\n",
        "print(\"Outside the function (before calling):\")\n",
        "print(\"Integer:\", int_arg, id(int_arg))\n",
        "print(\"Float:\", float_arg, id(float_arg))\n",
        "print(\"String:\", str_arg, id(str_arg))\n",
        "print(\"List:\", list_arg, id(list_arg))\n",
        "print(\"Tuple:\", tuple_arg, id(tuple_arg))\n",
        "print(\"Dictionary:\", dict_arg, id(dict_arg))\n",
        "\n",
        "modify_values(int_arg, float_arg, str_arg, list_arg, tuple_arg, dict_arg)\n",
        "\n",
        "print(\"\\nOutside the function (after calling):\")\n",
        "print(\"Integer:\", int_arg, id(int_arg))  # Unchanged\n",
        "print(\"Float:\", float_arg, id(float_arg))  # Unchanged\n",
        "print(\"String:\", str_arg, id(str_arg))  # Unchanged\n",
        "print(\"List:\", list_arg, id(list_arg))  # Changed!\n",
        "print(\"Tuple:\", tuple_arg, id(tuple_arg))  # Unchanged\n",
        "print(\"Dictionary:\", dict_arg, id(dict_arg))  # Changed!"
      ],
      "metadata": {
        "id": "YuG9DmHq6gn6"
      },
      "execution_count": null,
      "outputs": []
    },
    {
      "cell_type": "markdown",
      "source": [
        "7.\n",
        "same as question 6"
      ],
      "metadata": {
        "id": "JWIbRVyU7Q8H"
      }
    },
    {
      "cell_type": "markdown",
      "source": [
        "8. Write a program to demonstrate the use of logical operators ?\n"
      ],
      "metadata": {
        "id": "58UsQjhj7d0D"
      }
    },
    {
      "cell_type": "code",
      "source": [
        "x = 10\n",
        "y = 5\n",
        "z = 0\n",
        "# and operator\n",
        "print(f\"x > 0 and y > 0: {x > 0 and y > 0}\")\n",
        "# or operator\n",
        "print(f\"x > 0 or y > 0: {x > 0 or y > 0}\")\n",
        "# not operator\n",
        "print(f\"not z: {not z}\")\n",
        "# Combining logical operators\n",
        "print(f\"x > 0 and (y > 0 or z > 0): {x > 0 and (y > 0 or z > 0)}\")"
      ],
      "metadata": {
        "colab": {
          "base_uri": "https://localhost:8080/"
        },
        "id": "zKCenHcm7lQF",
        "outputId": "dbdaa827-3b7c-4fd9-bc95-3d1ab12ada2f"
      },
      "execution_count": 9,
      "outputs": [
        {
          "output_type": "stream",
          "name": "stdout",
          "text": [
            "x > 0 and y > 0: True\n",
            "x > 0 or y > 0: True\n",
            "not z: True\n",
            "x > 0 and (y > 0 or z > 0): True\n"
          ]
        }
      ]
    },
    {
      "cell_type": "markdown",
      "source": [
        "9. Write a Python program to convert user input from string to integer, float, and boolean types?"
      ],
      "metadata": {
        "id": "pVxDmSSp8KiN"
      }
    },
    {
      "cell_type": "code",
      "source": [
        "user_input = (input(\"Enter a number\"))\n",
        "print_integer= int(user_input)\n",
        "user_input2 = float(input(\"Enter a value: \"))\n",
        "user_input3 = bool(input(\"Enter a value: \"))\n",
        "print(print_integer)\n",
        "print(user_input2)\n",
        "print(user_input3)\n",
        "\n"
      ],
      "metadata": {
        "colab": {
          "base_uri": "https://localhost:8080/"
        },
        "id": "j6b2Vaq_8QOw",
        "outputId": "d7ea938d-b44a-4092-8218-2814e0891771"
      },
      "execution_count": 20,
      "outputs": [
        {
          "output_type": "stream",
          "name": "stdout",
          "text": [
            "Enter a number67\n",
            "Enter a value: 78\n",
            "Enter a value: gj\n",
            "67\n",
            "78.0\n",
            "True\n"
          ]
        }
      ]
    },
    {
      "cell_type": "markdown",
      "source": [
        "10. Write code to demonstrate type casting with list elements?\n"
      ],
      "metadata": {
        "id": "BXvmZ2_m9esn"
      }
    },
    {
      "cell_type": "code",
      "source": [
        "#Convert string elements to integers\n",
        "string_list = [\"1\", \"2\", \"3\", \"4\", \"5\"]\n",
        "int_list = [int(element) for element in string_list]\n",
        "print(int_list)\n",
        "#Convert elements to float\n",
        "float_list = [float(element) for element in string_list]\n",
        "print(float_list)\n",
        "#Convert elements to boolean\n",
        "bool_list = [bool(element) for element in string_list]\n",
        "print(bool_list)\n"
      ],
      "metadata": {
        "id": "NMFU3LYw990Y"
      },
      "execution_count": 21,
      "outputs": []
    },
    {
      "cell_type": "markdown",
      "source": [
        "11. Write a program that checks if a number is positive, negative, or zero?\n"
      ],
      "metadata": {
        "id": "F-u-Bj9L-8sN"
      }
    },
    {
      "cell_type": "code",
      "source": [
        "num = float(input(\"Enter a number: \"))\n",
        "if num > 0:\n",
        "   print(\"Positive number\")\n",
        "elif num == 0:\n",
        "   print(\"Zero\")\n",
        "else:\n",
        "   print(\"Negative number\")"
      ],
      "metadata": {
        "colab": {
          "base_uri": "https://localhost:8080/"
        },
        "id": "6j4c6sHk_EDI",
        "outputId": "15dd572d-80da-4692-fd66-49620041ae6d"
      },
      "execution_count": 22,
      "outputs": [
        {
          "output_type": "stream",
          "name": "stdout",
          "text": [
            "Enter a number: 454\n",
            "Positive number\n"
          ]
        }
      ]
    },
    {
      "cell_type": "markdown",
      "source": [
        "12. Write a for loop to print numbers from 1 to 10?"
      ],
      "metadata": {
        "id": "ys9yerUM_Qbz"
      }
    },
    {
      "cell_type": "code",
      "source": [
        "# Method 1: Using range()\n",
        "\n",
        "for i in range(1, 11):  # range(start, stop) goes up to (but not including) stop\n",
        "    print(i)"
      ],
      "metadata": {
        "id": "U877z31K_Vr-"
      },
      "execution_count": null,
      "outputs": []
    },
    {
      "cell_type": "markdown",
      "source": [
        "13. Write a Python program to find the sum of all even numbers between 1 and 50?"
      ],
      "metadata": {
        "id": "WcXHR12o_fuH"
      }
    },
    {
      "cell_type": "code",
      "source": [
        "for i in range(1, 51):\n",
        "    if i % 2 == 0:\n",
        "        print(i)"
      ],
      "metadata": {
        "id": "z-DcInmi_m-n"
      },
      "execution_count": null,
      "outputs": []
    },
    {
      "cell_type": "markdown",
      "source": [
        "14. Write a program to reverse a string using a while loop?\n"
      ],
      "metadata": {
        "id": "uvMz31wr_tGf"
      }
    },
    {
      "cell_type": "code",
      "source": [
        "input_string = input(\"Enter a string: \")\n",
        "reversed_string = \"\"\n",
        "index = len(input_string) - 1\n",
        "\n",
        "while index >= 0:\n",
        "    reversed_string += input_string[index]\n",
        "    index -= 1\n",
        "print(\"Reversed string:\", reversed_string)"
      ],
      "metadata": {
        "colab": {
          "base_uri": "https://localhost:8080/"
        },
        "id": "IbjYFlZ6_yrW",
        "outputId": "da1c99d1-c479-4710-fbdf-1db40e757043"
      },
      "execution_count": 28,
      "outputs": [
        {
          "output_type": "stream",
          "name": "stdout",
          "text": [
            "Enter a string: i am a boy\n",
            "Reversed string: yob a ma i\n"
          ]
        }
      ]
    },
    {
      "cell_type": "markdown",
      "source": [
        "15. Write a Python program to calculate the factorial of a number provided by the user using a while loop?"
      ],
      "metadata": {
        "id": "0REMtSS2Aw5M"
      }
    },
    {
      "cell_type": "code",
      "source": [
        "try:\n",
        "    num = int(input(\"Enter a non-negative integer: \"))\n",
        "    fact = factorial(num)\n",
        "    print(f\"The factorial of {num} is {fact}\")\n",
        "except ValueError:\n",
        "    print(\"Invalid input. Please enter a valid non-negative integer.\")"
      ],
      "metadata": {
        "colab": {
          "base_uri": "https://localhost:8080/"
        },
        "id": "niMPHi4UA2_7",
        "outputId": "78d7f698-9b31-44a2-c99a-87f38ba73cf0"
      },
      "execution_count": 32,
      "outputs": [
        {
          "output_type": "stream",
          "name": "stdout",
          "text": [
            "Enter a non-negative integer: 67\n",
            "The factorial of 67 is 36471110918188685288249859096605464427167635314049524593701628500267962436943872000000000000000\n"
          ]
        }
      ]
    },
    {
      "cell_type": "code",
      "execution_count": null,
      "metadata": {
        "id": "9kvkQHSu1BqC"
      },
      "outputs": [],
      "source": []
    },
    {
      "cell_type": "markdown",
      "source": [],
      "metadata": {
        "id": "LVz40nIv3bIS"
      }
    }
  ]
}